{
 "cells": [
  {
   "cell_type": "markdown",
   "id": "dd72d3db-0b74-46b8-b6f8-12589c473151",
   "metadata": {},
   "source": [
    "### Como utilizar o apache hudi?"
   ]
  },
  {
   "cell_type": "markdown",
   "id": "fb73a28d-db72-4712-b89c-4570e497a2fa",
   "metadata": {},
   "source": [
    "#### Objetivo: este tutorial tem como objetivo aprender a utilizar o apache hudi com pyspark\n",
    "#### Data: 2022-09-15\n",
    "#### Autor: Guilherme Gandolfi"
   ]
  },
  {
   "cell_type": "code",
   "execution_count": 6,
   "id": "c194de5b-21cf-4048-a07c-6fc715285b50",
   "metadata": {},
   "outputs": [
    {
     "name": "stdout",
     "output_type": "stream",
     "text": [
      "Starting Spark application\n"
     ]
    },
    {
     "data": {
      "text/html": [
       "<table>\n",
       "<tr><th>ID</th><th>YARN Application ID</th><th>Kind</th><th>State</th><th>Spark UI</th><th>Driver log</th><th>User</th><th>Current session?</th></tr><tr><td>5</td><td>None</td><td>pyspark</td><td>idle</td><td></td><td></td><td>None</td><td>✔</td></tr></table>"
      ],
      "text/plain": [
       "<IPython.core.display.HTML object>"
      ]
     },
     "metadata": {},
     "output_type": "display_data"
    },
    {
     "data": {
      "application/vnd.jupyter.widget-view+json": {
       "model_id": "",
       "version_major": 2,
       "version_minor": 0
      },
      "text/plain": [
       "FloatProgress(value=0.0, bar_style='info', description='Progress:', layout=Layout(height='25px', width='50%'),…"
      ]
     },
     "metadata": {},
     "output_type": "display_data"
    },
    {
     "name": "stdout",
     "output_type": "stream",
     "text": [
      "SparkSession available as 'spark'.\n"
     ]
    },
    {
     "data": {
      "text/html": [
       "Current session configs: <tt>{'conf': {'spark.jars.packages': 'org.apache.hudi:hudi-spark3.1-bundle_2.12:0.12.0', 'spark.serializer': 'org.apache.spark.serializer.KryoSerializer', 'spark.sql.extensions': 'org.apache.spark.sql.hudi.HoodieSparkSessionExtension'}, 'kind': 'pyspark'}</tt><br>"
      ],
      "text/plain": [
       "<IPython.core.display.HTML object>"
      ]
     },
     "metadata": {},
     "output_type": "display_data"
    },
    {
     "data": {
      "text/html": [
       "<table>\n",
       "<tr><th>ID</th><th>YARN Application ID</th><th>Kind</th><th>State</th><th>Spark UI</th><th>Driver log</th><th>User</th><th>Current session?</th></tr><tr><td>3</td><td>None</td><td>pyspark</td><td>idle</td><td></td><td></td><td>None</td><td></td></tr><tr><td>5</td><td>None</td><td>pyspark</td><td>idle</td><td></td><td></td><td>None</td><td>✔</td></tr></table>"
      ],
      "text/plain": [
       "<IPython.core.display.HTML object>"
      ]
     },
     "metadata": {},
     "output_type": "display_data"
    }
   ],
   "source": [
    "%%configure -f\n",
    "{\n",
    "    \"conf\": {\n",
    "        \"spark.jars.packages\": \"org.apache.hudi:hudi-spark3.1-bundle_2.12:0.12.0\",\n",
    "        \"spark.serializer\":\"org.apache.spark.serializer.KryoSerializer\",\n",
    "        \"spark.sql.extensions\":\"org.apache.spark.sql.hudi.HoodieSparkSessionExtension\"\n",
    "    }\n",
    "}"
   ]
  },
  {
   "cell_type": "code",
   "execution_count": 118,
   "id": "8071a33d-06c4-47e7-9d7e-27d045f68462",
   "metadata": {},
   "outputs": [
    {
     "data": {
      "application/vnd.jupyter.widget-view+json": {
       "model_id": "",
       "version_major": 2,
       "version_minor": 0
      },
      "text/plain": [
       "FloatProgress(value=0.0, bar_style='info', description='Progress:', layout=Layout(height='25px', width='50%'),…"
      ]
     },
     "metadata": {},
     "output_type": "display_data"
    }
   ],
   "source": [
    "from pyspark.sql import SparkSession\n",
    "from pyspark.sql.functions import *\n",
    "from pyspark.sql.types import *"
   ]
  },
  {
   "cell_type": "code",
   "execution_count": 119,
   "id": "43f80c1c-4d82-40aa-88a0-e62bdcfda5cc",
   "metadata": {},
   "outputs": [
    {
     "data": {
      "application/vnd.jupyter.widget-view+json": {
       "model_id": "",
       "version_major": 2,
       "version_minor": 0
      },
      "text/plain": [
       "FloatProgress(value=0.0, bar_style='info', description='Progress:', layout=Layout(height='25px', width='50%'),…"
      ]
     },
     "metadata": {},
     "output_type": "display_data"
    }
   ],
   "source": [
    "spark = SparkSession.builder.appName('bora_apache_hudi').getOrCreate()"
   ]
  },
  {
   "cell_type": "code",
   "execution_count": 120,
   "id": "4b8e7313-3d2d-45ed-b7af-ff865a1fb195",
   "metadata": {},
   "outputs": [
    {
     "data": {
      "application/vnd.jupyter.widget-view+json": {
       "model_id": "",
       "version_major": 2,
       "version_minor": 0
      },
      "text/plain": [
       "FloatProgress(value=0.0, bar_style='info', description='Progress:', layout=Layout(height='25px', width='50%'),…"
      ]
     },
     "metadata": {},
     "output_type": "display_data"
    },
    {
     "name": "stdout",
     "output_type": "stream",
     "text": [
      "<pyspark.sql.session.SparkSession object at 0x7fd094faab90>"
     ]
    }
   ],
   "source": [
    "print(spark)"
   ]
  },
  {
   "cell_type": "markdown",
   "id": "06988dca-ccf1-48c6-b976-be5d46ae545a",
   "metadata": {},
   "source": [
    "#### Carregando um dataframe para operacoes de alteracao dos dados"
   ]
  },
  {
   "cell_type": "markdown",
   "id": "2eac635d-9d94-464e-b2d3-486ad299226a",
   "metadata": {},
   "source": [
    "##### Foi utilizado como base de dados \n",
    "##### Netflix Movies and TV Shows - (https://www.kaggle.com/datasets/shivamb/netflix-shows)"
   ]
  },
  {
   "cell_type": "code",
   "execution_count": 121,
   "id": "5a898397-e920-4965-999c-63041a3d9816",
   "metadata": {},
   "outputs": [
    {
     "name": "stdout",
     "output_type": "stream",
     "text": [
      "netflix_titles.csv\n",
      "/home/glue_user/workspace/jupyter_workspace\n"
     ]
    }
   ],
   "source": [
    "%%sh\n",
    "ls import_bases/\n",
    "pwd import_bases/"
   ]
  },
  {
   "cell_type": "markdown",
   "id": "8be3d4fe-dd47-4beb-bbe4-a9cb1b2d6282",
   "metadata": {},
   "source": [
    "#### Load dataframe"
   ]
  },
  {
   "cell_type": "code",
   "execution_count": 122,
   "id": "11066f1a-6c98-47d9-8963-4050235ad5b8",
   "metadata": {},
   "outputs": [
    {
     "data": {
      "application/vnd.jupyter.widget-view+json": {
       "model_id": "",
       "version_major": 2,
       "version_minor": 0
      },
      "text/plain": [
       "FloatProgress(value=0.0, bar_style='info', description='Progress:', layout=Layout(height='25px', width='50%'),…"
      ]
     },
     "metadata": {},
     "output_type": "display_data"
    }
   ],
   "source": [
    "schema = StructType() \\\n",
    "        .add(\"show_id\",StringType(),True) \\\n",
    "        .add(\"type\",StringType(),True) \\\n",
    "        .add(\"title\",StringType(),True ) \\\n",
    "        .add(\"director\",StringType(),True) \\\n",
    "        .add(\"cast\",StringType(),True) \\\n",
    "        .add(\"country\",StringType(),True) \\\n",
    "        .add(\"date_added\",StringType(),True) \\\n",
    "        .add(\"release_year\",IntegerType(),True) \\\n",
    "        .add(\"rating\",StringType(),True) \\\n",
    "        .add(\"duration\",StringType(),True) \\\n",
    "        .add(\"listed_in\",StringType(),True) \\\n",
    "        .add(\"description\",StringType(),True) "
   ]
  },
  {
   "cell_type": "code",
   "execution_count": 123,
   "id": "8e44e027-9580-451b-a380-98ad03120b20",
   "metadata": {},
   "outputs": [
    {
     "data": {
      "application/vnd.jupyter.widget-view+json": {
       "model_id": "",
       "version_major": 2,
       "version_minor": 0
      },
      "text/plain": [
       "FloatProgress(value=0.0, bar_style='info', description='Progress:', layout=Layout(height='25px', width='50%'),…"
      ]
     },
     "metadata": {},
     "output_type": "display_data"
    }
   ],
   "source": [
    "df_netflix = spark.read.csv('/home/glue_user/workspace/jupyter_workspace/import_bases/netflix_titles.csv', inferSchema='True', header=True, schema=schema)"
   ]
  },
  {
   "cell_type": "code",
   "execution_count": 124,
   "id": "4bf1ac5f-4405-4180-8195-948f3532f388",
   "metadata": {},
   "outputs": [
    {
     "data": {
      "application/vnd.jupyter.widget-view+json": {
       "model_id": "",
       "version_major": 2,
       "version_minor": 0
      },
      "text/plain": [
       "FloatProgress(value=0.0, bar_style='info', description='Progress:', layout=Layout(height='25px', width='50%'),…"
      ]
     },
     "metadata": {},
     "output_type": "display_data"
    },
    {
     "name": "stdout",
     "output_type": "stream",
     "text": [
      "root\n",
      " |-- show_id: string (nullable = true)\n",
      " |-- type: string (nullable = true)\n",
      " |-- title: string (nullable = true)\n",
      " |-- director: string (nullable = true)\n",
      " |-- cast: string (nullable = true)\n",
      " |-- country: string (nullable = true)\n",
      " |-- date_added: string (nullable = true)\n",
      " |-- release_year: integer (nullable = true)\n",
      " |-- rating: string (nullable = true)\n",
      " |-- duration: string (nullable = true)\n",
      " |-- listed_in: string (nullable = true)\n",
      " |-- description: string (nullable = true)"
     ]
    }
   ],
   "source": [
    "df_netflix.printSchema()"
   ]
  },
  {
   "cell_type": "markdown",
   "id": "4a137d67-d16a-483d-8625-aca2134b5b2c",
   "metadata": {},
   "source": [
    "### Write Files"
   ]
  },
  {
   "cell_type": "code",
   "execution_count": 125,
   "id": "05cd6135-8005-401b-90e4-40f5058643d3",
   "metadata": {},
   "outputs": [
    {
     "data": {
      "application/vnd.jupyter.widget-view+json": {
       "model_id": "",
       "version_major": 2,
       "version_minor": 0
      },
      "text/plain": [
       "FloatProgress(value=0.0, bar_style='info', description='Progress:', layout=Layout(height='25px', width='50%'),…"
      ]
     },
     "metadata": {},
     "output_type": "display_data"
    }
   ],
   "source": [
    "tableName='netflix_new'\n",
    "hudi_options = {\n",
    "    'hoodie.table.name': tableName,\n",
    "    'hoodie.datasource.write.recordkey.field': 'show_id',\n",
    "    'hoodie.datasource.write.partitionpath.field': 'release_year',\n",
    "    'hoodie.datasource.write.table.name': tableName,\n",
    "    'hoodie.datasource.write.operation': 'upsert',\n",
    "    'hoodie.datasource.write.precombine.field': 'release_year',\n",
    "    'hoodie.upsert.shuffle.parallelism': 2,\n",
    "    'hoodie.insert.shuffle.parallelism': 2\n",
    "}\n",
    "basePath='/tmp/hudi_bases/netflix/'"
   ]
  },
  {
   "cell_type": "code",
   "execution_count": 126,
   "id": "ffb3a345-699a-406b-abe3-9607c45f6a9b",
   "metadata": {},
   "outputs": [
    {
     "data": {
      "application/vnd.jupyter.widget-view+json": {
       "model_id": "",
       "version_major": 2,
       "version_minor": 0
      },
      "text/plain": [
       "FloatProgress(value=0.0, bar_style='info', description='Progress:', layout=Layout(height='25px', width='50%'),…"
      ]
     },
     "metadata": {},
     "output_type": "display_data"
    }
   ],
   "source": [
    "df_netflix_2021=df_netflix.filter(df_netflix['release_year']==2021)\n",
    "df_netflix_2021.write.format(\"hudi\").options(**hudi_options).mode(\"overwrite\").save(basePath)"
   ]
  },
  {
   "cell_type": "markdown",
   "id": "f48e23ac-18db-430c-8850-3b3d0a98439d",
   "metadata": {},
   "source": [
    "### Check particionamento do arquivo"
   ]
  },
  {
   "cell_type": "code",
   "execution_count": 127,
   "id": "116eb27d-8e1f-4057-88ff-41e4f816ec0b",
   "metadata": {},
   "outputs": [
    {
     "name": "stdout",
     "output_type": "stream",
     "text": [
      "2021\n",
      "30c7b8c0-74bc-48d2-9555-dba135b7c2fb-0_0-510-2031_20220916015619988.parquet\n"
     ]
    }
   ],
   "source": [
    "%%sh\n",
    "ls /tmp/hudi_bases/netflix/\n",
    "ls /tmp/hudi_bases/netflix/2021"
   ]
  },
  {
   "cell_type": "markdown",
   "id": "f4dc5fdd-09c1-4138-9b5b-6946cd5418a5",
   "metadata": {},
   "source": [
    "### Query data"
   ]
  },
  {
   "cell_type": "code",
   "execution_count": 128,
   "id": "77dc3fc3-859d-4316-b060-c19e97b3e9d6",
   "metadata": {},
   "outputs": [
    {
     "data": {
      "application/vnd.jupyter.widget-view+json": {
       "model_id": "",
       "version_major": 2,
       "version_minor": 0
      },
      "text/plain": [
       "FloatProgress(value=0.0, bar_style='info', description='Progress:', layout=Layout(height='25px', width='50%'),…"
      ]
     },
     "metadata": {},
     "output_type": "display_data"
    }
   ],
   "source": [
    "df_netflix_hudi=spark.read.format('hudi').load(basePath)\n",
    "df_netflix_hudi.createOrReplaceTempView('df_netflix_hudi')"
   ]
  },
  {
   "cell_type": "code",
   "execution_count": 129,
   "id": "58b03b69-a8fa-4158-93ef-93d0b580fece",
   "metadata": {},
   "outputs": [
    {
     "data": {
      "application/vnd.jupyter.widget-view+json": {
       "model_id": "",
       "version_major": 2,
       "version_minor": 0
      },
      "text/plain": [
       "FloatProgress(value=0.0, bar_style='info', description='Progress:', layout=Layout(height='25px', width='50%'),…"
      ]
     },
     "metadata": {},
     "output_type": "display_data"
    },
    {
     "name": "stdout",
     "output_type": "stream",
     "text": [
      "root\n",
      " |-- _hoodie_commit_time: string (nullable = true)\n",
      " |-- _hoodie_commit_seqno: string (nullable = true)\n",
      " |-- _hoodie_record_key: string (nullable = true)\n",
      " |-- _hoodie_partition_path: string (nullable = true)\n",
      " |-- _hoodie_file_name: string (nullable = true)\n",
      " |-- show_id: string (nullable = true)\n",
      " |-- type: string (nullable = true)\n",
      " |-- title: string (nullable = true)\n",
      " |-- director: string (nullable = true)\n",
      " |-- cast: string (nullable = true)\n",
      " |-- country: string (nullable = true)\n",
      " |-- date_added: string (nullable = true)\n",
      " |-- rating: string (nullable = true)\n",
      " |-- duration: string (nullable = true)\n",
      " |-- listed_in: string (nullable = true)\n",
      " |-- description: string (nullable = true)\n",
      " |-- release_year: integer (nullable = true)"
     ]
    }
   ],
   "source": [
    "df_netflix_hudi.printSchema()"
   ]
  },
  {
   "cell_type": "code",
   "execution_count": 130,
   "id": "3925feca-e1ec-42d2-9829-b5eb06c01286",
   "metadata": {},
   "outputs": [
    {
     "data": {
      "application/vnd.jupyter.widget-view+json": {
       "model_id": "",
       "version_major": 2,
       "version_minor": 0
      },
      "text/plain": [
       "FloatProgress(value=0.0, bar_style='info', description='Progress:', layout=Layout(height='25px', width='50%'),…"
      ]
     },
     "metadata": {},
     "output_type": "display_data"
    },
    {
     "name": "stdout",
     "output_type": "stream",
     "text": [
      "+-------------------+------------------+----------------------+\n",
      "|_hoodie_commit_time|_hoodie_record_key|_hoodie_partition_path|\n",
      "+-------------------+------------------+----------------------+\n",
      "|  20220916015619988|             s1286|                  2021|\n",
      "|  20220916015619988|             s8438|                  2021|\n",
      "|  20220916015619988|              s645|                  2021|\n",
      "|  20220916015619988|              s272|                  2021|\n",
      "|  20220916015619988|              s654|                  2021|\n",
      "|  20220916015619988|             s1343|                  2021|\n",
      "|  20220916015619988|              s889|                  2021|\n",
      "|  20220916015619988|              s256|                  2021|\n",
      "|  20220916015619988|             s1349|                  2021|\n",
      "|  20220916015619988|              s401|                  2021|\n",
      "+-------------------+------------------+----------------------+\n",
      "only showing top 10 rows\n",
      "\n",
      "+--------+\n",
      "|count(1)|\n",
      "+--------+\n",
      "|     589|\n",
      "+--------+"
     ]
    }
   ],
   "source": [
    "spark.sql('select _hoodie_commit_time, _hoodie_record_key, _hoodie_partition_path from df_netflix_hudi').show(10)\n",
    "spark.sql('select count (*) from df_netflix_hudi').show(10)"
   ]
  },
  {
   "cell_type": "markdown",
   "id": "7e64a20b-2d04-4d61-ae6f-c5ff9a809a51",
   "metadata": {},
   "source": [
    "#### Update data"
   ]
  },
  {
   "cell_type": "code",
   "execution_count": 131,
   "id": "c6b4244c-bb17-45b3-b4bf-73fda5ecf063",
   "metadata": {},
   "outputs": [
    {
     "data": {
      "application/vnd.jupyter.widget-view+json": {
       "model_id": "",
       "version_major": 2,
       "version_minor": 0
      },
      "text/plain": [
       "FloatProgress(value=0.0, bar_style='info', description='Progress:', layout=Layout(height='25px', width='50%'),…"
      ]
     },
     "metadata": {},
     "output_type": "display_data"
    },
    {
     "name": "stdout",
     "output_type": "stream",
     "text": [
      "+-------+--------+\n",
      "|   type|count(1)|\n",
      "+-------+--------+\n",
      "|TV Show|     314|\n",
      "|  Movie|     275|\n",
      "+-------+--------+"
     ]
    }
   ],
   "source": [
    "spark.sql('select type, count (*) from df_netflix_hudi group by type').show(10)"
   ]
  },
  {
   "cell_type": "code",
   "execution_count": 132,
   "id": "28a6999f-80c4-45e9-bf0e-9717de84bca2",
   "metadata": {},
   "outputs": [
    {
     "data": {
      "application/vnd.jupyter.widget-view+json": {
       "model_id": "",
       "version_major": 2,
       "version_minor": 0
      },
      "text/plain": [
       "FloatProgress(value=0.0, bar_style='info', description='Progress:', layout=Layout(height='25px', width='50%'),…"
      ]
     },
     "metadata": {},
     "output_type": "display_data"
    }
   ],
   "source": [
    "df_netflix_2021=df_netflix_2021.withColumn('type', regexp_replace('type','TV Show','TV Show - Hudi'))"
   ]
  },
  {
   "cell_type": "code",
   "execution_count": 133,
   "id": "e040537b-fd66-4814-8a58-a44809e8c2b6",
   "metadata": {},
   "outputs": [
    {
     "data": {
      "application/vnd.jupyter.widget-view+json": {
       "model_id": "",
       "version_major": 2,
       "version_minor": 0
      },
      "text/plain": [
       "FloatProgress(value=0.0, bar_style='info', description='Progress:', layout=Layout(height='25px', width='50%'),…"
      ]
     },
     "metadata": {},
     "output_type": "display_data"
    }
   ],
   "source": [
    "df_netflix_2021.write.format(\"hudi\").options(**hudi_options).mode(\"append\").save(basePath)"
   ]
  },
  {
   "cell_type": "code",
   "execution_count": 134,
   "id": "653f1706-fe45-42a0-a2be-641a0638416e",
   "metadata": {},
   "outputs": [
    {
     "data": {
      "application/vnd.jupyter.widget-view+json": {
       "model_id": "",
       "version_major": 2,
       "version_minor": 0
      },
      "text/plain": [
       "FloatProgress(value=0.0, bar_style='info', description='Progress:', layout=Layout(height='25px', width='50%'),…"
      ]
     },
     "metadata": {},
     "output_type": "display_data"
    }
   ],
   "source": [
    "df_netflix_hudi=spark.read.format('hudi').load(basePath)\n",
    "df_netflix_hudi.createOrReplaceTempView('df_netflix_hudi')"
   ]
  },
  {
   "cell_type": "code",
   "execution_count": 135,
   "id": "7381f3bc-0fbc-47e5-88c6-aa96ace70650",
   "metadata": {},
   "outputs": [
    {
     "data": {
      "application/vnd.jupyter.widget-view+json": {
       "model_id": "",
       "version_major": 2,
       "version_minor": 0
      },
      "text/plain": [
       "FloatProgress(value=0.0, bar_style='info', description='Progress:', layout=Layout(height='25px', width='50%'),…"
      ]
     },
     "metadata": {},
     "output_type": "display_data"
    },
    {
     "name": "stdout",
     "output_type": "stream",
     "text": [
      "+--------------+--------+\n",
      "|          type|count(1)|\n",
      "+--------------+--------+\n",
      "|TV Show - Hudi|     314|\n",
      "|         Movie|     275|\n",
      "+--------------+--------+"
     ]
    }
   ],
   "source": [
    "spark.sql('select type, count (*) from df_netflix_hudi group by type').show(10)"
   ]
  },
  {
   "cell_type": "code",
   "execution_count": 136,
   "id": "da8b8655-fa70-4952-9174-94b1b0b760ef",
   "metadata": {},
   "outputs": [
    {
     "name": "stdout",
     "output_type": "stream",
     "text": [
      "2021\n"
     ]
    }
   ],
   "source": [
    "%%sh\n",
    "ls /tmp/hudi_bases/netflix/"
   ]
  },
  {
   "cell_type": "code",
   "execution_count": 137,
   "id": "5bdc23f7-d062-4330-9174-6b48bf857a31",
   "metadata": {},
   "outputs": [
    {
     "name": "stdout",
     "output_type": "stream",
     "text": [
      "30c7b8c0-74bc-48d2-9555-dba135b7c2fb-0_0-510-2031_20220916015619988.parquet\n",
      "30c7b8c0-74bc-48d2-9555-dba135b7c2fb-0_0-554-2070_20220916015627680.parquet\n"
     ]
    }
   ],
   "source": [
    "%%sh\n",
    "ls /tmp/hudi_bases/netflix/2021"
   ]
  },
  {
   "cell_type": "code",
   "execution_count": null,
   "id": "14bf971a-93a2-4ec8-b895-841a31e8d2d1",
   "metadata": {},
   "outputs": [],
   "source": []
  }
 ],
 "metadata": {
  "kernelspec": {
   "display_name": "Glue Spark - Local (PySpark)",
   "language": "python",
   "name": "pysparkkernel"
  },
  "language_info": {
   "codemirror_mode": {
    "name": "python",
    "version": 3
   },
   "file_extension": ".py",
   "mimetype": "text/x-python",
   "name": "pyspark",
   "pygments_lexer": "python3"
  }
 },
 "nbformat": 4,
 "nbformat_minor": 5
}
